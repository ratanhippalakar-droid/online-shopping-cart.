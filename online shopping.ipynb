{
 "cells": [
  {
   "cell_type": "code",
   "execution_count": 1,
   "id": "26e6f771-78b2-429e-afee-389c1f9b45ac",
   "metadata": {},
   "outputs": [
    {
     "name": "stdout",
     "output_type": "stream",
     "text": [
      "\n",
      "--- Online Shopping Cart ---\n",
      "1. Show Products\n",
      "2. Add to Cart\n",
      "3. Remove from Cart\n",
      "4. View Cart\n",
      "5. Checkout\n",
      "6. Exit\n"
     ]
    },
    {
     "name": "stdin",
     "output_type": "stream",
     "text": [
      "Enter your choice:  1\n"
     ]
    },
    {
     "name": "stdout",
     "output_type": "stream",
     "text": [
      "\n",
      "Available Products:\n",
      "ID\tName\t\tPrice\tStock\n",
      "----------------------------------\n",
      "1\tLaptop\t\t50000\t5\n",
      "2\tphone\t\t20000\t10\n",
      "3\tHeadset\t\t2000\t15\n",
      "4\tcharger\t\t800\t20\n",
      "5\tMouse\t\t500\t25\n",
      "\n",
      "--- Online Shopping Cart ---\n",
      "1. Show Products\n",
      "2. Add to Cart\n",
      "3. Remove from Cart\n",
      "4. View Cart\n",
      "5. Checkout\n",
      "6. Exit\n"
     ]
    },
    {
     "name": "stdin",
     "output_type": "stream",
     "text": [
      "Enter your choice:  2\n"
     ]
    },
    {
     "name": "stdout",
     "output_type": "stream",
     "text": [
      "\n",
      "Available Products:\n",
      "ID\tName\t\tPrice\tStock\n",
      "----------------------------------\n",
      "1\tLaptop\t\t50000\t5\n",
      "2\tphone\t\t20000\t10\n",
      "3\tHeadset\t\t2000\t15\n",
      "4\tcharger\t\t800\t20\n",
      "5\tMouse\t\t500\t25\n"
     ]
    },
    {
     "name": "stdin",
     "output_type": "stream",
     "text": [
      "\n",
      "Enter Product ID to add:  3\n",
      "Enter Quantity:  4\n"
     ]
    },
    {
     "name": "stdout",
     "output_type": "stream",
     "text": [
      "Headsetadded to cart,\n",
      "\n",
      "--- Online Shopping Cart ---\n",
      "1. Show Products\n",
      "2. Add to Cart\n",
      "3. Remove from Cart\n",
      "4. View Cart\n",
      "5. Checkout\n",
      "6. Exit\n"
     ]
    },
    {
     "name": "stdin",
     "output_type": "stream",
     "text": [
      "Enter your choice:  5\n"
     ]
    },
    {
     "name": "stdout",
     "output_type": "stream",
     "text": [
      "\n",
      "--- Bill ---\n",
      "Total Amount to pay: 8000\n",
      "Receipt saved as 'receipt.txt'\n",
      "\n",
      "--- Online Shopping Cart ---\n",
      "1. Show Products\n",
      "2. Add to Cart\n",
      "3. Remove from Cart\n",
      "4. View Cart\n",
      "5. Checkout\n",
      "6. Exit\n"
     ]
    },
    {
     "name": "stdin",
     "output_type": "stream",
     "text": [
      "Enter your choice:  6\n"
     ]
    },
    {
     "name": "stdout",
     "output_type": "stream",
     "text": [
      "Thank you for shopping! Goodbye!\n"
     ]
    }
   ],
   "source": [
    "# online Shopping Cart Project\n",
    "\n",
    "#task 01\n",
    "#Product catlog\n",
    "#creating a dictionary of product\n",
    "products = {\n",
    "    1: {\"name\": \"Laptop\", \"price\": 50000, \"stock\": 5},\n",
    "    2: {\"name\": \"phone\", \"price\": 20000, \"stock\": 10},\n",
    "    3: {\"name\": \"Headset\", \"price\": 2000, \"stock\": 15},\n",
    "    4: {\"name\": \"charger\", \"price\": 800, \"stock\": 20},\n",
    "    5: {\"name\": \"Mouse\", \"price\": 500, \"stock\": 25},\n",
    "}\n",
    "#creating empty cart\n",
    "cart = {}\n",
    "\n",
    "#task 02\n",
    "\n",
    "# Task 2: Show Products\n",
    "def show_products():\n",
    "    print(\"\\nAvailable Products:\")\n",
    "    print(\"ID\\tName\\t\\tPrice\\tStock\")\n",
    "    print(\"----------------------------------\")\n",
    "    for pid, details in products.items():\n",
    "      print(f\"{pid}\\t{details['name']}\\t\\t{details['price']}\\t{details['stock']}\") \n",
    "\n",
    "# Task 3: function to add products to cart\n",
    "def add_to_cart():\n",
    "    show_products()\n",
    "    try:\n",
    "        pid = int(input(\"\\nEnter Product ID to add: \"))\n",
    "        if pid not in products:\n",
    "            print(\"Invalid Product Id!\")\n",
    "            return\n",
    "        qty = int(input(\"Enter Quantity: \"))\n",
    "        if qty > products[pid][\"stock\"]:\n",
    "            print(\"sorry, not enough stock!\")\n",
    "            return\n",
    "        if pid in cart:\n",
    "            cart[pid] += qty\n",
    "        else:\n",
    "            cart[pid] = qty\n",
    "        products[pid][\"stock\"] -= qty\n",
    "        print(f\"{products[pid]['name']}added to cart,\")\n",
    "    except ValueError:\n",
    "        print(\"Invalid input.\") \n",
    "\n",
    "# Task 4: Remove from Cart\n",
    "def remove_from_cart():\n",
    "    if not cart:\n",
    "        print(\"Cart is empty!\")\n",
    "        return\n",
    "    print(\"\\nItems in cart:\")\n",
    "    for pid,qty in cart.items():\n",
    "        print(f\"{pid}-{products[pid]['name']}:{qty}\")\n",
    "    try:\n",
    "        pid = int(input(\"\\nEnter Product ID to remove: \"))\n",
    "        if pid not in cart:\n",
    "            print(\"product not in cart!\")\n",
    "            return\n",
    "        qty = int(input(\"Enter Quantity to remove: \"))\n",
    "        if qty >= cart[pid]:\n",
    "            products[pid][\"stock\"] += cart[pid]\n",
    "            del cart[pid]\n",
    "        else:\n",
    "            cart[pid] -= qty\n",
    "            products[pid][\"stock\"]+=qty\n",
    "        print(\"item updated in cart.\")\n",
    "    except ValueError:\n",
    "        print(\"Invalid input!\") \n",
    " \n",
    " # Task 5: View Cart\n",
    "def view_cart():\n",
    "    if not cart:\n",
    "        print(\"\\nCart is empty!\")\n",
    "        return\n",
    "    total=0\n",
    "    print(\"\\nYour Cart:\")\n",
    "    print(\"Name\\tQuantity\\tPrice\")\n",
    "    for pid, qty in cart.items():\n",
    "        name = products[pid][\"name\"]\n",
    "        price = products[pid][\"price\"] * qty\n",
    "        total += price\n",
    "        \n",
    "        print(f\"{name}\\t{qty:<3}\\t\\t{price:<7}\")\n",
    "    print(f\"Total Amount: {total}\")\n",
    "\n",
    "# Function to checkout and save receipt\n",
    "def checkout():\n",
    "    if not cart:\n",
    "        print(\"Cart is empty!\")\n",
    "        return\n",
    "    total = 0\n",
    "    print(\"\\n--- Bill ---\")\n",
    "    with open(\"receipt.txt\", \"w\") as f:\n",
    "        f.write(\"----- Receipt -----\\n\")\n",
    "        f.write(\"Name\\tQuantity\\tPrice\\n\")\n",
    "        for pid, qty in cart.items():\n",
    "            name = products[pid][\"name\"]\n",
    "            price = products[pid][\"price\"] * qty\n",
    "            total += price\n",
    "            f.write(f\"{name}\\t{qty}\\t{price}\\n\")\n",
    "        f.write(f\"Total Amount: {total}\\n\")\n",
    "        f.write(\"-------------------\\n\")\n",
    "    print(f\"Total Amount to pay: {total}\")\n",
    "    print(\"Receipt saved as 'receipt.txt'\")\n",
    "    cart.clear()  # Empty the cart after checkout\n",
    "\n",
    "# Main menu loop\n",
    "while True:\n",
    "    print(\"\\n--- Online Shopping Cart ---\")\n",
    "    print(\"1. Show Products\")\n",
    "    print(\"2. Add to Cart\")\n",
    "    print(\"3. Remove from Cart\")\n",
    "    print(\"4. View Cart\")\n",
    "    print(\"5. Checkout\")\n",
    "    print(\"6. Exit\")\n",
    "    \n",
    "    try:\n",
    "        choice = int(input(\"Enter your choice: \"))\n",
    "        if choice == 1:\n",
    "            show_products()\n",
    "        elif choice == 2:\n",
    "            add_to_cart()\n",
    "        elif choice == 3:\n",
    "            remove_from_cart()\n",
    "        elif choice == 4:\n",
    "            view_cart()\n",
    "        elif choice == 5:\n",
    "            checkout()\n",
    "        elif choice == 6:\n",
    "            print(\"Thank you for shopping! Goodbye!\")\n",
    "            break\n",
    "        else:\n",
    "            print(\"Invalid choice!\")\n",
    "    except ValueError:\n",
    "        print(\"Please enter a valid number!\")\n",
    "\n",
    "            "
   ]
  },
  {
   "cell_type": "code",
   "execution_count": null,
   "id": "10bc8654-7100-48cd-9090-3ea167bf5d4d",
   "metadata": {},
   "outputs": [],
   "source": [
    "\n"
   ]
  },
  {
   "cell_type": "code",
   "execution_count": null,
   "id": "a4ba9741-01f7-4c87-a69e-b52f7560a94e",
   "metadata": {},
   "outputs": [],
   "source": []
  }
 ],
 "metadata": {
  "kernelspec": {
   "display_name": "Python [conda env:base] *",
   "language": "python",
   "name": "conda-base-py"
  },
  "language_info": {
   "codemirror_mode": {
    "name": "ipython",
    "version": 3
   },
   "file_extension": ".py",
   "mimetype": "text/x-python",
   "name": "python",
   "nbconvert_exporter": "python",
   "pygments_lexer": "ipython3",
   "version": "3.13.5"
  }
 },
 "nbformat": 4,
 "nbformat_minor": 5
}
